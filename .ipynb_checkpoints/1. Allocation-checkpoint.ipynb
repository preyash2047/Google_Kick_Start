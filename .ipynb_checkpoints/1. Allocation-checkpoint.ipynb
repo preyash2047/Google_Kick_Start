{
 "cells": [
  {
   "cell_type": "markdown",
   "metadata": {},
   "source": [
    "Input<br>\n",
    "3\n",
    "<br>4 100\n",
    "<br>20 90 40 90\n",
    "<br>4 50\n",
    "<br>30 30 10 10\n",
    "<br>3 300\n",
    "<br>999 999 999\n",
    "<br>\n",
    "\n",
    "Output:<br>\n",
    "Case #1: 2\n",
    "<br>Case #2: 3\n",
    "<br>Case #3: 0"
   ]
  },
  {
   "cell_type": "code",
   "execution_count": 3,
   "metadata": {},
   "outputs": [
    {
     "data": {
      "text/plain": [
       "[20, 40, 90, 90]"
      ]
     },
     "execution_count": 3,
     "metadata": {},
     "output_type": "execute_result"
    }
   ],
   "source": [
    "sorted([20,90,40,90], reverse = False)"
   ]
  },
  {
   "cell_type": "code",
   "execution_count": 22,
   "metadata": {},
   "outputs": [
    {
     "name": "stdout",
     "output_type": "stream",
     "text": [
      "3\n",
      "4 100\n",
      "20 90 40 90\n",
      "Case #1: 2\n",
      "4 50\n",
      "30 30 10 10\n",
      "Case #2: 3\n",
      "3 300\n",
      "999 999 999\n",
      "Case #3: 0\n"
     ]
    }
   ],
   "source": [
    "T = int(input())\n",
    "for x in range(1, T + 1):\n",
    "    N, B = map(int, input().split())\n",
    "    A = map(int, input().split())\n",
    "    A = sorted(A, reverse = False)\n",
    "    \n",
    "    y = 0\n",
    "    SUM = 0\n",
    "    for i in range(0, N):\n",
    "        SUM += A[i] \n",
    "        if SUM <= B:\n",
    "            y += 1\n",
    "        else:\n",
    "            break\n",
    "    print(\"Case #{}: {}\".format(x, y), flush = True)"
   ]
  },
  {
   "cell_type": "code",
   "execution_count": 12,
   "metadata": {},
   "outputs": [
    {
     "data": {
      "text/plain": [
       "[20, 40, 90, 90]"
      ]
     },
     "execution_count": 12,
     "metadata": {},
     "output_type": "execute_result"
    }
   ],
   "source": [
    "3\n",
    "4 100\n",
    "20 90 40 90\n",
    "4 50\n",
    "30 30 10 10\n",
    "3 300\n",
    "999 999 999"
   ]
  },
  {
   "cell_type": "code",
   "execution_count": 14,
   "metadata": {},
   "outputs": [
    {
     "data": {
      "text/plain": [
       "[20, 40, 90, 90]"
      ]
     },
     "execution_count": 14,
     "metadata": {},
     "output_type": "execute_result"
    }
   ],
   "source": [
    "A"
   ]
  }
 ],
 "metadata": {
  "kernelspec": {
   "display_name": "Python 3",
   "language": "python",
   "name": "python3"
  },
  "language_info": {
   "codemirror_mode": {
    "name": "ipython",
    "version": 3
   },
   "file_extension": ".py",
   "mimetype": "text/x-python",
   "name": "python",
   "nbconvert_exporter": "python",
   "pygments_lexer": "ipython3",
   "version": "3.8.1"
  }
 },
 "nbformat": 4,
 "nbformat_minor": 4
}
