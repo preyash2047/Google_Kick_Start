{
 "cells": [
  {
   "cell_type": "markdown",
   "metadata": {},
   "source": [
    "Input<br>\n",
    "3\n",
    "<br>4 100\n",
    "<br>20 90 40 90\n",
    "<br>4 50\n",
    "<br>30 30 10 10\n",
    "<br>3 300\n",
    "<br>999 999 999\n",
    "<br>\n",
    "\n",
    "Output:<br>\n",
    "Case #1: 2\n",
    "<br>Case #2: 3\n",
    "<br>Case #3: 0"
   ]
  },
  {
   "cell_type": "code",
   "execution_count": null,
   "metadata": {},
   "outputs": [],
   "source": []
  }
 ],
 "metadata": {
  "kernelspec": {
   "display_name": "Python 3",
   "language": "python",
   "name": "python3"
  },
  "language_info": {
   "codemirror_mode": {
    "name": "ipython",
    "version": 3
   },
   "file_extension": ".py",
   "mimetype": "text/x-python",
   "name": "python",
   "nbconvert_exporter": "python",
   "pygments_lexer": "ipython3",
   "version": "3.8.1"
  }
 },
 "nbformat": 4,
 "nbformat_minor": 4
}
