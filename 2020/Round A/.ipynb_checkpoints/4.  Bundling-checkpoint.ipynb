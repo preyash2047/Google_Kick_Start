{
 "cells": [
  {
   "cell_type": "markdown",
   "metadata": {},
   "source": [
    "### Input 1\n",
    "    1\n",
    "    3 1\n",
    "    100 200 230\n",
    "\n",
    "### Output 1\n",
    "    Case #1: 50\n",
    "\n",
    "### Input 2\n",
    "    3\n",
    "    5 2\n",
    "    10 13 15 16 17\n",
    "    5 6\n",
    "    9 10 20 26 30\n",
    "    8 3\n",
    "    1 2 3 4 5 6 7 10\n",
    " \t\n",
    "### Output 2\n",
    "    Case #1: 2\n",
    "    Case #2: 3\n",
    "    Case #3: 1"
   ]
  },
  {
   "cell_type": "code",
   "execution_count": 39,
   "metadata": {},
   "outputs": [
    {
     "name": "stdout",
     "output_type": "stream",
     "text": [
      "1 \n",
      "3 1\n",
      "100 200 230\n",
      "Case #1: 50\n"
     ]
    }
   ],
   "source": [
    "T = int(input())\n",
    "for _ in range(T):\n",
    "    N,K = map(int,input().split())\n",
    "    session = list(map(int,input().split()))\n",
    "    deff = [(session[i+1]-session[i]) for i in range(len(session)-1)]\n",
    "    for i in range(K):\n",
    "        maxDiffIndex = deff.index(max(deff))\n",
    "        deff.append(int(deff[maxDiffIndex]/2))\n",
    "        deff.append(deff[maxDiffIndex]-deff[-1])\n",
    "        deff[maxDiffIndex] = 0\n",
    "    print (\"Case #\"+str(_+1)+\":\", max(deff))"
   ]
  }
 ],
 "metadata": {
  "kernelspec": {
   "display_name": "Python 3",
   "language": "python",
   "name": "python3"
  },
  "language_info": {
   "codemirror_mode": {
    "name": "ipython",
    "version": 3
   },
   "file_extension": ".py",
   "mimetype": "text/x-python",
   "name": "python",
   "nbconvert_exporter": "python",
   "pygments_lexer": "ipython3",
   "version": "3.8.1"
  }
 },
 "nbformat": 4,
 "nbformat_minor": 4
}
