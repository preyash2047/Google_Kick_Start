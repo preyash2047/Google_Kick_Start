{
 "cells": [
  {
   "cell_type": "markdown",
   "metadata": {},
   "source": [
    "### Input\n",
    "* 2\n",
    "* 2 4 5\n",
    "* 10 10 100 30\n",
    "* 80 50 10 50\n",
    "* 3 2 3\n",
    "* 80 80\n",
    "* 15 50\n",
    "* 20 10\n",
    "\n",
    "### Output \n",
    "* Case #1: 250\n",
    "* Case #2: 180\n",
    "\n",
    "  "
   ]
  },
  {
   "cell_type": "code",
   "execution_count": null,
   "metadata": {},
   "outputs": [],
   "source": [
    "T = int(input())\n",
    "for x in range(1, T + 1):\n",
    "    N, K, P = map(int, input().split())\n",
    "    stake = []\n",
    "    for i in range(0,N):\n",
    "        stake.append(input().split())\n",
    "    \n",
    "\n",
    "    print(\"Case #{}: {}\".format(x, y), flush = True)"
   ]
  },
  {
   "cell_type": "code",
   "execution_count": null,
   "metadata": {},
   "outputs": [],
   "source": [
    "2\n",
    "2 4 5\n",
    "10 10 100 30\n",
    "80 50 10 50\n",
    "3 2 3\n",
    "80 80\n",
    "15 50\n",
    "20 10"
   ]
  }
 ],
 "metadata": {
  "kernelspec": {
   "display_name": "Python 3",
   "language": "python",
   "name": "python3"
  },
  "language_info": {
   "codemirror_mode": {
    "name": "ipython",
    "version": 3
   },
   "file_extension": ".py",
   "mimetype": "text/x-python",
   "name": "python",
   "nbconvert_exporter": "python",
   "pygments_lexer": "ipython3",
   "version": "3.8.1"
  }
 },
 "nbformat": 4,
 "nbformat_minor": 4
}
