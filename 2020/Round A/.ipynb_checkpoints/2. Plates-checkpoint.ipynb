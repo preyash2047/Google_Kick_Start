{
 "cells": [
  {
   "cell_type": "markdown",
   "metadata": {},
   "source": [
    "### Input\n",
    "* 2\n",
    "* 2 4 5\n",
    "* 10 10 100 30\n",
    "* 80 50 10 50\n",
    "* 3 2 3\n",
    "* 80 80\n",
    "* 15 50\n",
    "* 20 10\n",
    "\n",
    "### Output \n",
    "* Case #1: 250\n",
    "* Case #2: 180\n",
    "\n",
    "  "
   ]
  },
  {
   "cell_type": "code",
   "execution_count": 1,
   "metadata": {},
   "outputs": [
    {
     "name": "stdout",
     "output_type": "stream",
     "text": [
      "2\n",
      "2 4 5\n",
      "10 10 100 30\n",
      "80 50 10 50\n",
      "Case #1: 250\n",
      "3 2 3\n",
      "80 80\n",
      "15 50\n",
      "20 10\n",
      "Case #2: 180\n"
     ]
    }
   ],
   "source": [
    "T = int(input())\n",
    "for _ in range(T):\n",
    "    N,K,P = map(int,input().split())\n",
    "    arr = []\n",
    "    for i in range(N):\n",
    "        arr.append([0]+list(map(int,input().split())))\n",
    "        for j in range(K):\n",
    "            arr[i][j+1] += arr[i][j]\n",
    "    dp = [[0 for x in range(P+1)] for x in range(N+1)]\n",
    "    ans = 0\n",
    "    for i in range(N):\n",
    "        for j in range(1,K+1):\n",
    "            for l in range(P+1):\n",
    "                dp[i+1][l] = max(dp[i+1][l],dp[i][l])\n",
    "                if l + j <= P:\n",
    "                    dp[i+1][l+j] = max(dp[i+1][l+j], dp[i][l]+arr[i][j])\n",
    "                    ans = max(ans,dp[i+1][l+j])\n",
    "    print (\"Case #\"+str(_+1)+\":\",ans)"
   ]
  }
 ],
 "metadata": {
  "kernelspec": {
   "display_name": "Python 3",
   "language": "python",
   "name": "python3"
  },
  "language_info": {
   "codemirror_mode": {
    "name": "ipython",
    "version": 3
   },
   "file_extension": ".py",
   "mimetype": "text/x-python",
   "name": "python",
   "nbconvert_exporter": "python",
   "pygments_lexer": "ipython3",
   "version": "3.8.1"
  }
 },
 "nbformat": 4,
 "nbformat_minor": 4
}
