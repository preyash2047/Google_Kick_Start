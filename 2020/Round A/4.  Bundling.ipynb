{
 "cells": [
  {
   "cell_type": "markdown",
   "metadata": {},
   "source": [
    "#### Input 1 \n",
    "    2\n",
    "    2 2\n",
    "    KICK\n",
    "    START\n",
    "    8 2\n",
    "    G\n",
    "    G\n",
    "    GO\n",
    "    GO\n",
    "    GOO\n",
    "    GOO\n",
    "    GOOO\n",
    "    GOOO\n",
    "#### Output 1\n",
    "    Case #1: 0\n",
    "    Case #2: 10\n",
    "\n",
    "#### Input 2 \n",
    "    1\n",
    "    6 3\n",
    "    RAINBOW\n",
    "    FIREBALL\n",
    "    RANK\n",
    "    RANDOM\n",
    "    FIREWALL\n",
    "    FIREFIGHTER\n",
    "    \n",
    "#### Output 2  \n",
    "    Case #1: 6  "
   ]
  },
  {
   "cell_type": "code",
   "execution_count": 39,
   "metadata": {},
   "outputs": [
    {
     "name": "stdout",
     "output_type": "stream",
     "text": [
      "1 \n",
      "3 1\n",
      "100 200 230\n",
      "Case #1: 50\n"
     ]
    }
   ],
   "source": [
    "T = int(input())\n",
    "for _ in range(T):\n",
    "    N,K = map(int,input().split())\n",
    "    words = list(map(str,input().split()))\n",
    "    words.sort()\n",
    "    ans = 0\n",
    "    temp = []\n",
    "    for i in range(N/K): #grouping\n",
    "        \n",
    "        for j in range(len(words)-1):\n",
    "            for k in range(len(words[j])):\n",
    "                if words[j][0:k+1] == words[j+1][0:k+1]:\n",
    "                    temp.append()\n",
    "                \n",
    "        temp = []\n",
    "        \n",
    "        for j in range(K): #no of element in each group\n",
    "            \n",
    "    print (\"Case #\"+str(_+1)+\":\", max(deff))"
   ]
  },
  {
   "cell_type": "markdown",
   "metadata": {},
   "source": [
    "# Code from Internet"
   ]
  },
  {
   "cell_type": "code",
   "execution_count": null,
   "metadata": {},
   "outputs": [],
   "source": [
    "T = int(raw_input())\n",
    "for _ in range(T):\n",
    "    N,K = map(int,raw_input().split())\n",
    "    arr = sorted([raw_input() for x in range(N)])\n",
    "    lcp = [0 for x in range(N-1)]\n",
    "    seen = [0 for x in range(N-1)]\n",
    "    for i in range(N-1):\n",
    "        for j in range(min(len(arr[i]),len(arr[i+1]))):\n",
    "            if arr[i][j] != arr[i+1][j]:\n",
    "                break\n",
    "            lcp[i] += 1\n",
    "            seen[i] += 1\n",
    "    seen = sorted(list(set(seen)),reverse=True)\n",
    "    chk = [0 for x in range(N)]\n",
    "    ans = 0\n",
    "    cur = []\n",
    "    for i in seen:\n",
    "        cur = []\n",
    "        for j in range(N-1):\n",
    "            if lcp[j] < i:\n",
    "                cur = []\n",
    "            else:\n",
    "                if (not cur or cur[-1] != j) and not chk[j]:\n",
    "                    cur.append(j)\n",
    "                if not chk[j+1]:\n",
    "                    cur.append(j+1)\n",
    "            if len(cur) == K:\n",
    "                for k in cur:\n",
    "                    chk[k] = 1\n",
    "                ans += i\n",
    "                cur = []\n",
    "    print \"Case #%d: %d\" %(_+1,ans)"
   ]
  }
 ],
 "metadata": {
  "kernelspec": {
   "display_name": "Python 3",
   "language": "python",
   "name": "python3"
  },
  "language_info": {
   "codemirror_mode": {
    "name": "ipython",
    "version": 3
   },
   "file_extension": ".py",
   "mimetype": "text/x-python",
   "name": "python",
   "nbconvert_exporter": "python",
   "pygments_lexer": "ipython3",
   "version": "3.8.1"
  }
 },
 "nbformat": 4,
 "nbformat_minor": 4
}
