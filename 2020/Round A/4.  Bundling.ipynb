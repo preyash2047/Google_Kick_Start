{
 "cells": [
  {
   "cell_type": "markdown",
   "metadata": {},
   "source": [
    "#### Input 1 \n",
    "    2\n",
    "    2 2\n",
    "    KICK\n",
    "    START\n",
    "    8 2\n",
    "    G\n",
    "    G\n",
    "    GO\n",
    "    GO\n",
    "    GOO\n",
    "    GOO\n",
    "    GOOO\n",
    "    GOOO\n",
    "#### Output 1\n",
    "    Case #1: 0\n",
    "    Case #2: 10\n",
    "\n",
    "#### Input 2 \n",
    "    1\n",
    "    6 3\n",
    "    RAINBOW\n",
    "    FIREBALL\n",
    "    RANK\n",
    "    RANDOM\n",
    "    FIREWALL\n",
    "    FIREFIGHTER\n",
    "    \n",
    "#### Output 2  \n",
    "    Case #1: 6  "
   ]
  },
  {
   "cell_type": "code",
   "execution_count": 39,
   "metadata": {},
   "outputs": [
    {
     "name": "stdout",
     "output_type": "stream",
     "text": [
      "1 \n",
      "3 1\n",
      "100 200 230\n",
      "Case #1: 50\n"
     ]
    }
   ],
   "source": [
    "T = int(input())\n",
    "for _ in range(T):\n",
    "    N,K = map(int,input().split())\n",
    "    words = list(map(str,input().split()))\n",
    "    words.sort()\n",
    "    ans = 0\n",
    "    temp = []\n",
    "    for i in range(N/K): #grouping\n",
    "        \n",
    "        for j in range(len(words)-1):\n",
    "            for k in range(len(words[j])):\n",
    "                if words[j][0:k+1] == words[j+1][0:k+1]:\n",
    "                    temp.append()\n",
    "                \n",
    "        temp = []\n",
    "        \n",
    "        for j in range(K): #no of element in each group\n",
    "            \n",
    "    print (\"Case #\"+str(_+1)+\":\", max(deff))"
   ]
  },
  {
   "cell_type": "code",
   "execution_count": 3,
   "metadata": {},
   "outputs": [
    {
     "name": "stdout",
     "output_type": "stream",
     "text": [
      "GOO GOOO G GO GO GOO GOOO G \n"
     ]
    },
    {
     "data": {
      "text/plain": [
       "['GOO', 'GOOO', 'G', 'GO', 'GO', 'GOO', 'GOOO', 'G']"
      ]
     },
     "execution_count": 3,
     "metadata": {},
     "output_type": "execute_result"
    }
   ],
   "source": [
    "words = list(map(str,input().split()))\n",
    "words"
   ]
  },
  {
   "cell_type": "code",
   "execution_count": 5,
   "metadata": {},
   "outputs": [],
   "source": [
    "words.sort()"
   ]
  },
  {
   "cell_type": "code",
   "execution_count": 6,
   "metadata": {},
   "outputs": [
    {
     "data": {
      "text/plain": [
       "['G', 'G', 'GO', 'GO', 'GOO', 'GOO', 'GOOO', 'GOOO']"
      ]
     },
     "execution_count": 6,
     "metadata": {},
     "output_type": "execute_result"
    }
   ],
   "source": [
    "words"
   ]
  },
  {
   "cell_type": "code",
   "execution_count": null,
   "metadata": {},
   "outputs": [],
   "source": []
  }
 ],
 "metadata": {
  "kernelspec": {
   "display_name": "Python 3",
   "language": "python",
   "name": "python3"
  },
  "language_info": {
   "codemirror_mode": {
    "name": "ipython",
    "version": 3
   },
   "file_extension": ".py",
   "mimetype": "text/x-python",
   "name": "python",
   "nbconvert_exporter": "python",
   "pygments_lexer": "ipython3",
   "version": "3.8.1"
  }
 },
 "nbformat": 4,
 "nbformat_minor": 4
}
