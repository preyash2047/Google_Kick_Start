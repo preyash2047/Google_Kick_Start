{
 "cells": [
  {
   "cell_type": "code",
   "execution_count": null,
   "metadata": {},
   "outputs": [],
   "source": [
    "matrix = []"
   ]
  },
  {
   "cell_type": "code",
   "execution_count": null,
   "metadata": {},
   "outputs": [],
   "source": [
    "matrix.append([int(s) for s in input().split(\" \")])"
   ]
  },
  {
   "cell_type": "markdown",
   "metadata": {},
   "source": [
    "# 1st"
   ]
  },
  {
   "cell_type": "code",
   "execution_count": null,
   "metadata": {},
   "outputs": [],
   "source": [
    "import numpy as np\n",
    "t = int(input())\n",
    "for i in range(1, t + 1):\n",
    "    d = int(input())\n",
    "    matrix = []\n",
    "    row = 0\n",
    "    col = 0\n",
    "    for j in range(d):\n",
    "        matrix.append([int(s) for s in input().split(\" \")])\n",
    "        #for row\n",
    "        if(len(np.unique(matrix[j])) != d):\n",
    "            row += 1\n",
    "        #for col\n",
    "        if(j == (d-1)):\n",
    "            temp = np.transpose(matrix)\n",
    "            for r in temp:\n",
    "                if(len(np.unique(r)) != d):\n",
    "                    col += 1\n",
    "    #for np.trace(a)\n",
    "    crossTotal = np.trace(matrix)\n",
    "    print(\"Case #{}: {} {} {}\".format(i, crossTotal, row, col))"
   ]
  },
  {
   "cell_type": "markdown",
   "metadata": {},
   "source": [
    "# 2ed"
   ]
  },
  {
   "cell_type": "code",
   "execution_count": null,
   "metadata": {},
   "outputs": [],
   "source": [
    "t = int(input())\n",
    "for i in range(1, t + 1):\n",
    "    string = [int(x) for x in list(input())]\n",
    "    openP = 0\n",
    "    y = \"\"\n",
    "    for j in string:\n",
    "        if openP == j:\n",
    "            y += str(j)\n",
    "            continue\n",
    "        elif openP < j:\n",
    "            y += '('*(j-openP)+str(j)\n",
    "            openP = j\n",
    "        else: #openP > j\n",
    "            y += ')'*(openP-j)+str(j)\n",
    "            openP = j\n",
    "    y += ')'*(string[-1])\n",
    "    print(\"Case #{}: {}\".format(i, y))"
   ]
  },
  {
   "cell_type": "markdown",
   "metadata": {},
   "source": [
    "# 3rd"
   ]
  },
  {
   "cell_type": "code",
   "execution_count": 16,
   "metadata": {},
   "outputs": [
    {
     "name": "stdout",
     "output_type": "stream",
     "text": [
      "1\n",
      "5\n",
      "99 150\n",
      "1 100\n",
      "100 301\n",
      "2 5\n",
      "150 250\n",
      "Case #1: CJCCJ\n"
     ]
    }
   ],
   "source": [
    "t = int(input())\n",
    "for i in range(1, t + 1):\n",
    "    a = int(input())\n",
    "    y = \"\"\n",
    "    c = False\n",
    "    j = False\n",
    "    time = []\n",
    "    cTime = 0\n",
    "    jTime = 0\n",
    "    for j in range(a):\n",
    "        time.append([int(s) for s in input().split(\" \")])\n",
    "    time = sorted(time, key=lambda k: (k[1],k[0]))\n",
    "    y = \"\"\n",
    "    for j in time:\n",
    "        if(c == False):\n",
    "            cTime = j[1]\n",
    "            c = True\n",
    "            y += \"C\"\n",
    "        elif(j == False):\n",
    "            jTime = j[1]\n",
    "            j = True\n",
    "            y += \"J\"\n",
    "        elif(cTime <= j[0]):\n",
    "            cTime = j[1]\n",
    "            y += \"C\"\n",
    "        elif(cTime > j[0]):\n",
    "            if(jTime <= j[0]):\n",
    "                jTime = j[1]\n",
    "                y += \"J\"\n",
    "            elif(jTime > j[0]):\n",
    "                y = \"IMPOSSIBLE\"\n",
    "        else:\n",
    "            y = \"IMPOSSIBLE\"\n",
    "    print(\"Case #{}: {}\".format(i, y))"
   ]
  },
  {
   "cell_type": "code",
   "execution_count": 27,
   "metadata": {},
   "outputs": [
    {
     "name": "stdout",
     "output_type": "stream",
     "text": [
      "2\n",
      "10\n",
      "28 88\n",
      "49 53\n",
      "62 103\n",
      "108 286\n",
      "342 856\n",
      "241 548\n",
      "1 10\n",
      "2 20\n",
      "55 58\n",
      "555 666\n",
      "Time before [[28, 88], [49, 53], [62, 103], [108, 286], [342, 856], [241, 548], [1, 10], [2, 20], [55, 58], [555, 666]]\n",
      "Time after [[1, 10], [2, 20], [28, 88], [49, 53], [55, 58], [62, 103], [108, 286], [241, 548], [342, 856], [555, 666]]\n",
      "Case #1: CJCJJJCJCJ\n",
      "0\n",
      "Time before []\n",
      "Time after []\n",
      "Case #2: \n"
     ]
    }
   ],
   "source": [
    "t = int(input())\n",
    "for i in range(1, t + 1):\n",
    "    a = int(input())\n",
    "    y = \"\"\n",
    "    c = False\n",
    "    j = False\n",
    "    time = []\n",
    "    cTime = 0\n",
    "    jTime = 0\n",
    "    for j in range(a):\n",
    "        time.append([int(s) for s in input().split(\" \")])\n",
    "    print(\"Time before\",time)\n",
    "    time = sorted(time, key=lambda k: (k[0],k[1]))\n",
    "    print(\"Time after\",time)\n",
    "    y = \"\"\n",
    "    for j in time:\n",
    "        if(c == False):\n",
    "            cTime = j[1]\n",
    "            c = True\n",
    "            y += \"C\"\n",
    "        elif(j == False):\n",
    "            jTime = j[1]\n",
    "            j = True\n",
    "            y += \"J\"\n",
    "        elif(cTime <= j[0]):\n",
    "            cTime = j[1]\n",
    "            y += \"C\"\n",
    "        elif(jTime <= j[0]):\n",
    "            jTime = j[1]\n",
    "            y += \"J\"\n",
    "        else:\n",
    "            y = \"IMPOSSIBLE\"\n",
    "    print(\"Case #{}: {}\".format(i, y))"
   ]
  },
  {
   "cell_type": "code",
   "execution_count": 22,
   "metadata": {},
   "outputs": [
    {
     "data": {
      "text/plain": [
       "[[1, 100], [2, 5], [99, 150], [100, 301], [150, 250]]"
      ]
     },
     "execution_count": 22,
     "metadata": {},
     "output_type": "execute_result"
    }
   ],
   "source": [
    "data = [[99, 150], [1, 100], [100, 301], [2, 5], [150, 250]]\n",
    "sorted(data, key=lambda k: (k[0],k[1]))"
   ]
  },
  {
   "cell_type": "markdown",
   "metadata": {},
   "source": [
    "# 5th"
   ]
  },
  {
   "cell_type": "code",
   "execution_count": 55,
   "metadata": {},
   "outputs": [
    {
     "name": "stdout",
     "output_type": "stream",
     "text": [
      "1\n",
      "3 6\n",
      "np.trace(listme) 3\n",
      "listme [[1, 2, 3], [4, 1, 2], [3, 4, 1]]\n",
      "Case #3: IMPOSSIBLE\n"
     ]
    }
   ],
   "source": [
    "import numpy as np\n",
    "t = int(input())\n",
    "for i in range(1, t + 1):\n",
    "    d , s = [int(s) for s in input().split(\" \")]\n",
    "    listme = []\n",
    "    k = d + 1\n",
    "    y = \"\"\n",
    "    for i in range(1, d + 1, 1):\n",
    "        temp = k\n",
    "        tempList = []\n",
    "        while (temp <= d) :\n",
    "            temp += 1\n",
    "            tempList.append(temp)\n",
    "        for j in range(1, k):\n",
    "            tempList.append(j)\n",
    "        listme.append(tempList)\n",
    "        k -= 1\n",
    "    print(\"np.trace(listme)\" , np.trace(listme))\n",
    "    print(\"listme\",listme)\n",
    "    if(s == np.trace(listme)):\n",
    "        y += \"POSSIBLE\"\n",
    "        for j in listme:\n",
    "            y += \"\\n\"\n",
    "            for l in j:\n",
    "                y += str(l)+\" \"\n",
    "    else:\n",
    "        y = \"IMPOSSIBLE\"\n",
    "\n",
    "    print(\"Case #{}: {}\".format(i, y))"
   ]
  },
  {
   "cell_type": "code",
   "execution_count": 60,
   "metadata": {},
   "outputs": [
    {
     "data": {
      "text/plain": [
       "[[1, 2, 3], [4, 1, 2], [3, 4, 1]]"
      ]
     },
     "execution_count": 60,
     "metadata": {},
     "output_type": "execute_result"
    }
   ],
   "source": [
    "n = 3\n",
    "k = n + 1\n",
    "listme = []\n",
    "for i in range(1, n + 1, 1):\n",
    "    temp = k\n",
    "    tempList = []\n",
    "    while (temp <= n) :\n",
    "        temp += 1\n",
    "        tempList.append(temp)\n",
    "    for j in range(1, k):\n",
    "        tempList.append(j)\n",
    "    listme.append(tempList)\n",
    "    k -= 1\n",
    "listme"
   ]
  },
  {
   "cell_type": "code",
   "execution_count": 65,
   "metadata": {},
   "outputs": [
    {
     "name": "stdout",
     "output_type": "stream",
     "text": [
      "1 2 3 \n",
      "3 1 2 \n",
      "2 3 1 \n"
     ]
    }
   ],
   "source": [
    "n = 3\n",
    "k = n + 1\n",
    "for i in range(1, n + 1, 1): \n",
    "    temp = k \n",
    "    while (temp <= n) : \n",
    "        print(temp, end = \" \") \n",
    "        temp += 1\n",
    "    for j in range(1, k): \n",
    "        print(j, end = \" \") \n",
    "    k -= 1\n",
    "    print()  "
   ]
  },
  {
   "cell_type": "code",
   "execution_count": null,
   "metadata": {},
   "outputs": [],
   "source": []
  }
 ],
 "metadata": {
  "kernelspec": {
   "display_name": "Python 3",
   "language": "python",
   "name": "python3"
  },
  "language_info": {
   "codemirror_mode": {
    "name": "ipython",
    "version": 3
   },
   "file_extension": ".py",
   "mimetype": "text/x-python",
   "name": "python",
   "nbconvert_exporter": "python",
   "pygments_lexer": "ipython3",
   "version": "3.8.1"
  }
 },
 "nbformat": 4,
 "nbformat_minor": 4
}
