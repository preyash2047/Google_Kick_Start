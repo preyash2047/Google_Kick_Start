{
 "cells": [
  {
   "cell_type": "markdown",
   "metadata": {},
   "source": [
    "# The Greedy Manager\n",
    "\n",
    "A restaurant serves N different types of dishes, D1, D2, ... Dn. A group of K friends goes to the restaurant, deciding that they will altogether order 1 dish of each type (Hence N in total). They can order the dishes in any order.\n",
    "\n",
    "The manager of a restaurant has come up with a strange billing policy. It creates a separate bill for each person, and accepts an order of only 1 dish at a time by a person. The initial prices of dishes are C1, C2 ... Cn rupees. Further, if a person who has already ordered i dishes orders the dish Dj, he will be charged  (i+1)*Cj rupees. There is no limit on how many dishes a person can order.\n",
    "\n",
    "Having known this greedy billing policy of the hotel, the group of friends want to minimize their net expenditure. Your task is to help them find the minimum net amount they need to\n",
    "spend to order 1 dish of each type altogether.\n",
    "\n",
    "Input\n",
    "The first line contains two space-separated integers describing the respective values of  N and K.\n",
    "The second line contains  space-separated positive integers describing the respective C1, C2 ... Cn.\n",
    "\n",
    "Output\n",
    "Print the minimum cost to buy dishes as above.\n",
    "\n",
    "##### Sample Input 1\n",
    "##### 3 3\n",
    "##### 2 5 6\n",
    "\n",
    "Sample Output 1\n",
    "13\n",
    "\n",
    "Explanation 1\n",
    "There are N=3 dishes with costs [2,5,6] and K=3 people in the group. If each person buys one type of dish, the total cost of prices paid is 2+5+6=13 rupees. Thus, we print 13  as our answer.\n",
    "\n",
    "\n",
    "##### Sample Input 2\n",
    "##### 3 2\n",
    "##### 2 5 6\n",
    "\n",
    "Sample Output 2\n",
    "15\n",
    "\n",
    "Explanation 2\n",
    "There are N=3 dishes with costs [2,5,6] and K=2 people in the group. We can minimize the total purchase cost like so:\n",
    "\n",
    "1. The first person purchases 2 dishes.He/she buys the more expensive dish D2 (C2=5) first at price (0+1)*5 = 5 rupees and the less expensive dish D1 (C1=2) second at price\n",
    "(1 + 1)*2 = 4 rupees.\n",
    "1. The second person buys the most expensive dish at price (0+1)*6 = 6 rupees. We then print the sum of these purchases, which is 5+4+6 = 15, as our answer."
   ]
  },
  {
   "cell_type": "code",
   "execution_count": 31,
   "metadata": {},
   "outputs": [
    {
     "name": "stdout",
     "output_type": "stream",
     "text": [
      "3 2\n",
      "2 5 6\n",
      "Answer : 15\n"
     ]
    }
   ],
   "source": [
    "#N = nnumber of dishes\n",
    "#K = number of foodi\n",
    "#C = price of dishes\n",
    "N,K = map(int,input().split())\n",
    "C = list(map(int,input().split()))\n",
    "C.sort(reverse=True)\n",
    "bill = [] # each customer's no of order and there charges\n",
    "j = 0\n",
    "for i in range(N):\n",
    "    if j == K : j = 0\n",
    "    if i <= K:\n",
    "        bill.append([0,0])\n",
    "    bill[j][1] += (bill[j][0] + 1) * C[i]\n",
    "    bill[j][0] += 1\n",
    "    j += 1\n",
    "ans = 0\n",
    "for i in bill:\n",
    "    ans += i[1]\n",
    "print (f\"Answer : {ans}\")"
   ]
  }
 ],
 "metadata": {
  "kernelspec": {
   "display_name": "Python 3",
   "language": "python",
   "name": "python3"
  },
  "language_info": {
   "codemirror_mode": {
    "name": "ipython",
    "version": 3
   },
   "file_extension": ".py",
   "mimetype": "text/x-python",
   "name": "python",
   "nbconvert_exporter": "python",
   "pygments_lexer": "ipython3",
   "version": "3.8.1"
  }
 },
 "nbformat": 4,
 "nbformat_minor": 4
}
